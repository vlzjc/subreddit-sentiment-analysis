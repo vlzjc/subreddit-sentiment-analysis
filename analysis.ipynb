{
 "cells": [
  {
   "cell_type": "markdown",
   "id": "6df9e47d-7adc-472c-bc58-471cc0e247f3",
   "metadata": {},
   "source": [
    "At this point I already extracted the data from a subreddit called Showerthoughts' top\n",
    "cleaned the transformed and clean the data using python and some excel\n",
    "and here I am going to visualize the findings."
   ]
  },
  {
   "cell_type": "code",
   "execution_count": 1,
   "id": "5985eaae-6970-438a-858d-c8f341f7932d",
   "metadata": {},
   "outputs": [],
   "source": [
    "import matplotlib.pyplot as plt\n",
    "%matplotlib inline\n",
    "import seaborn as sns\n",
    "import pandas as pd"
   ]
  },
  {
   "cell_type": "code",
   "execution_count": 2,
   "id": "4cb368b2-bb48-4cb1-be34-cfeda4a644a8",
   "metadata": {},
   "outputs": [],
   "source": [
    "with open('showerthoughts_posts_with_sentiment.csv', 'r') as file:\n",
    "    df = pd.read_csv(file)"
   ]
  },
  {
   "cell_type": "code",
   "execution_count": 3,
   "id": "30747700-5755-4649-a8ba-9a590783a329",
   "metadata": {},
   "outputs": [],
   "source": [
    "def classify_sentiment(score):\n",
    "    if score > 0.05:\n",
    "        return 'Positive'\n",
    "    elif score < -0.05:\n",
    "        return 'Negative'\n",
    "    else:\n",
    "        return 'Neutral'"
   ]
  },
  {
   "cell_type": "code",
   "execution_count": 4,
   "id": "599741eb-2dc7-4f2d-9445-2ca8edb908d0",
   "metadata": {},
   "outputs": [
    {
     "name": "stdout",
     "output_type": "stream",
     "text": [
      "                                                title sentiment_label\n",
      "0   Whoever created the tradition of not seeing th...        Positive\n",
      "1   We laugh at dogs getting excited when they hea...        Positive\n",
      "2   When you're a kid, you don't realize you're al...         Neutral\n",
      "3   Dads probably bond with dogs so much because, ...        Positive\n",
      "4   Being able to tolerate the sound of your own v...        Positive\n",
      "5   Girls don't compliment guys because they're li...        Negative\n",
      "6   If elevators hadn't been invented, all the CEO...        Positive\n",
      "7   If EA suffers big enough losses from the backl...        Negative\n",
      "8   Being able to do well in high school without h...        Negative\n",
      "9   During a nuclear explosion, there is a certain...        Positive\n",
      "10  Anxiety is like when video game combat music i...        Positive\n",
      "11  Pavlov probably thought about feeding his dogs...         Neutral\n",
      "12  11 babies have been born in Antarctica, and no...        Positive\n",
      "13  We do not check the refrigerator multiple time...         Neutral\n",
      "14  The sentence \"Don't objectify women\" has \"wome...        Positive\n",
      "15  Somebody at google was just like \"yea, just ha...        Positive\n",
      "16  College students don't want to go to graduatio...        Positive\n",
      "17  There is probably at least one white guy, adop...         Neutral\n",
      "18  Apparently, a lemon is not naturally occurring...        Negative\n",
      "19  Being 35 and not wanting to work in the field ...        Positive\n",
      "20  It would be cool if after you died you could s...        Negative\n",
      "21  It kinda makes sense that the target audience ...        Positive\n",
      "22  Avatar, the highest grossing film of all time,...        Negative\n",
      "23  A guy named \"Weird Al\" has had a 40+ year long...        Negative\n",
      "24  We all think of Gordon Ramsay as an extremely ...        Negative\n"
     ]
    }
   ],
   "source": [
    "df['sentiment_label'] = df['sentiment_compound'].apply(classify_sentiment)\n",
    "print(df[['title', 'sentiment_label']])"
   ]
  },
  {
   "cell_type": "markdown",
   "id": "d53c0f05-b9b1-4c6f-af8e-371848b92dd3",
   "metadata": {},
   "source": [
    "lol lemons not being a natural occuring fruit is a negative. Life does not give you lemons"
   ]
  },
  {
   "cell_type": "code",
   "execution_count": 8,
   "id": "37e6ca7d-fc9e-41f9-9f05-7a48352b06b7",
   "metadata": {},
   "outputs": [
    {
     "name": "stderr",
     "output_type": "stream",
     "text": [
      "D:\\AppData\\Local\\Temp\\ipykernel_2192\\3753677212.py:4: FutureWarning: \n",
      "\n",
      "Passing `palette` without assigning `hue` is deprecated and will be removed in v0.14.0. Assign the `x` variable to `hue` and set `legend=False` for the same effect.\n",
      "\n",
      "  sns.barplot(x=sentiment_counts.index, y=sentiment_counts.values, palette='coolwarm')\n"
     ]
    },
    {
     "data": {
      "image/png": "[encoded data removed]",
      "text/plain": [
       "<Figure size 640x480 with 1 Axes>"
      ]
     },
     "metadata": {},
     "output_type": "display_data"
    }
   ],
   "source": [
    "sentiment_counts = df['sentiment_label'].value_counts()\n",
    "\n",
    "# Plotting the sentiment distribution\n",
    "sns.barplot(x=sentiment_counts.index, y=sentiment_counts.values, palette='coolwarm')\n",
    "plt.title('Sentiment Distribution')\n",
    "plt.xlabel('Sentiment')\n",
    "plt.ylabel('Number of Titles')\n",
    "plt.show()"
   ]
  },
  {
   "cell_type": "code",
   "execution_count": 9,
   "id": "f9f90f14-36b4-4880-ba5a-1afb5743dda1",
   "metadata": {},
   "outputs": [
    {
     "name": "stdout",
     "output_type": "stream",
     "text": [
      "Most Positive Title: College students don't want to go to graduation ceremonies, but they go to please their relatives, while relatives don't want to go but go to support the students; we should all just be honest and skip that ceremony and go out for pizza.\n",
      "Most Negative Title: We all think of Gordon Ramsay as an extremely picky food critic/chef but if your life's work was cooking and you saw a narcissistic restaurant manager breaking health code violations and making horrible food, you'd be pretty angry too.\n"
     ]
    }
   ],
   "source": [
    "most_positive = df.loc[df['sentiment_compound'].idxmax()]\n",
    "most_negative = df.loc[df['sentiment_compound'].idxmin()]\n",
    "\n",
    "print(\"Most Positive Title:\", most_positive['title'])\n",
    "print(\"Most Negative Title:\", most_negative['title'])"
   ]
  },
  {
   "cell_type": "markdown",
   "id": "580b37d0-0229-4a4b-b7ec-0536e33c3480",
   "metadata": {},
   "source": [
    "again, in the most professional way I could enunciate the word. LOL"
   ]
  },
  {
   "cell_type": "code",
   "execution_count": null,
   "id": "1c9357cb-5943-4eac-bb85-d03e044b9cc7",
   "metadata": {},
   "outputs": [],
   "source": []
  }
 ],
 "metadata": {
  "kernelspec": {
   "display_name": "Python 3 (ipykernel)",
   "language": "python",
   "name": "python3"
  },
  "language_info": {
   "codemirror_mode": {
    "name": "ipython",
    "version": 3
   },
   "file_extension": ".py",
   "mimetype": "text/x-python",
   "name": "python",
   "nbconvert_exporter": "python",
   "pygments_lexer": "ipython3",
   "version": "3.12.3"
  }
 },
 "nbformat": 4,
 "nbformat_minor": 5
}
